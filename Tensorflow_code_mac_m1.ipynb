{
 "cells": [
  {
   "cell_type": "code",
   "execution_count": 1,
   "id": "995b2a1c",
   "metadata": {},
   "outputs": [
    {
     "name": "stdout",
     "output_type": "stream",
     "text": [
      "Requirement already satisfied: tensorflow-metal==0.8.0 in /Users/mattsalomon/miniconda3/lib/python3.10/site-packages (0.8.0)\n",
      "Requirement already satisfied: tensorflow-macos==2.12.0 in /Users/mattsalomon/miniconda3/lib/python3.10/site-packages (2.12.0)\n",
      "Requirement already satisfied: wheel~=0.35 in /Users/mattsalomon/miniconda3/lib/python3.10/site-packages (from tensorflow-metal==0.8.0) (0.37.1)\n",
      "Requirement already satisfied: six>=1.15.0 in /Users/mattsalomon/miniconda3/lib/python3.10/site-packages (from tensorflow-metal==0.8.0) (1.16.0)\n",
      "Requirement already satisfied: tensorflow-estimator<2.13,>=2.12.0 in /Users/mattsalomon/miniconda3/lib/python3.10/site-packages (from tensorflow-macos==2.12.0) (2.12.0)\n",
      "Requirement already satisfied: flatbuffers>=2.0 in /Users/mattsalomon/miniconda3/lib/python3.10/site-packages (from tensorflow-macos==2.12.0) (24.3.25)\n",
      "Requirement already satisfied: opt-einsum>=2.3.2 in /Users/mattsalomon/miniconda3/lib/python3.10/site-packages (from tensorflow-macos==2.12.0) (3.3.0)\n",
      "Requirement already satisfied: libclang>=13.0.0 in /Users/mattsalomon/miniconda3/lib/python3.10/site-packages (from tensorflow-macos==2.12.0) (18.1.1)\n",
      "Requirement already satisfied: jax>=0.3.15 in /Users/mattsalomon/miniconda3/lib/python3.10/site-packages (from tensorflow-macos==2.12.0) (0.4.30)\n",
      "Requirement already satisfied: termcolor>=1.1.0 in /Users/mattsalomon/miniconda3/lib/python3.10/site-packages (from tensorflow-macos==2.12.0) (2.4.0)\n",
      "Requirement already satisfied: h5py>=2.9.0 in /Users/mattsalomon/miniconda3/lib/python3.10/site-packages (from tensorflow-macos==2.12.0) (3.11.0)\n",
      "Requirement already satisfied: protobuf!=4.21.0,!=4.21.1,!=4.21.2,!=4.21.3,!=4.21.4,!=4.21.5,<5.0.0dev,>=3.20.3 in /Users/mattsalomon/miniconda3/lib/python3.10/site-packages (from tensorflow-macos==2.12.0) (4.25.4)\n",
      "Requirement already satisfied: absl-py>=1.0.0 in /Users/mattsalomon/miniconda3/lib/python3.10/site-packages (from tensorflow-macos==2.12.0) (2.1.0)\n",
      "Requirement already satisfied: tensorboard<2.13,>=2.12 in /Users/mattsalomon/miniconda3/lib/python3.10/site-packages (from tensorflow-macos==2.12.0) (2.12.3)\n",
      "Requirement already satisfied: typing-extensions>=3.6.6 in /Users/mattsalomon/miniconda3/lib/python3.10/site-packages (from tensorflow-macos==2.12.0) (4.12.2)\n",
      "Requirement already satisfied: gast<=0.4.0,>=0.2.1 in /Users/mattsalomon/miniconda3/lib/python3.10/site-packages (from tensorflow-macos==2.12.0) (0.4.0)\n",
      "Requirement already satisfied: keras<2.13,>=2.12.0 in /Users/mattsalomon/miniconda3/lib/python3.10/site-packages (from tensorflow-macos==2.12.0) (2.12.0)\n",
      "Requirement already satisfied: astunparse>=1.6.0 in /Users/mattsalomon/miniconda3/lib/python3.10/site-packages (from tensorflow-macos==2.12.0) (1.6.3)\n",
      "Requirement already satisfied: grpcio<2.0,>=1.24.3 in /Users/mattsalomon/miniconda3/lib/python3.10/site-packages (from tensorflow-macos==2.12.0) (1.66.1)\n",
      "Requirement already satisfied: google-pasta>=0.1.1 in /Users/mattsalomon/miniconda3/lib/python3.10/site-packages (from tensorflow-macos==2.12.0) (0.2.0)\n",
      "Requirement already satisfied: numpy<1.24,>=1.22 in /Users/mattsalomon/miniconda3/lib/python3.10/site-packages (from tensorflow-macos==2.12.0) (1.23.5)\n",
      "Requirement already satisfied: wrapt<1.15,>=1.11.0 in /Users/mattsalomon/miniconda3/lib/python3.10/site-packages (from tensorflow-macos==2.12.0) (1.14.1)\n",
      "Requirement already satisfied: setuptools in /Users/mattsalomon/miniconda3/lib/python3.10/site-packages (from tensorflow-macos==2.12.0) (65.6.3)\n",
      "Requirement already satisfied: packaging in /Users/mattsalomon/miniconda3/lib/python3.10/site-packages (from tensorflow-macos==2.12.0) (23.2)\n",
      "Requirement already satisfied: jaxlib<=0.4.30,>=0.4.27 in /Users/mattsalomon/miniconda3/lib/python3.10/site-packages (from jax>=0.3.15->tensorflow-macos==2.12.0) (0.4.30)\n",
      "Requirement already satisfied: ml-dtypes>=0.2.0 in /Users/mattsalomon/miniconda3/lib/python3.10/site-packages (from jax>=0.3.15->tensorflow-macos==2.12.0) (0.4.0)\n",
      "Requirement already satisfied: scipy>=1.9 in /Users/mattsalomon/miniconda3/lib/python3.10/site-packages (from jax>=0.3.15->tensorflow-macos==2.12.0) (1.10.0)\n",
      "Requirement already satisfied: werkzeug>=1.0.1 in /Users/mattsalomon/miniconda3/lib/python3.10/site-packages (from tensorboard<2.13,>=2.12->tensorflow-macos==2.12.0) (3.0.4)\n",
      "Requirement already satisfied: google-auth<3,>=1.6.3 in /Users/mattsalomon/miniconda3/lib/python3.10/site-packages (from tensorboard<2.13,>=2.12->tensorflow-macos==2.12.0) (2.34.0)\n",
      "Requirement already satisfied: requests<3,>=2.21.0 in /Users/mattsalomon/miniconda3/lib/python3.10/site-packages (from tensorboard<2.13,>=2.12->tensorflow-macos==2.12.0) (2.28.1)\n",
      "Requirement already satisfied: markdown>=2.6.8 in /Users/mattsalomon/miniconda3/lib/python3.10/site-packages (from tensorboard<2.13,>=2.12->tensorflow-macos==2.12.0) (3.7)\n",
      "Requirement already satisfied: tensorboard-data-server<0.8.0,>=0.7.0 in /Users/mattsalomon/miniconda3/lib/python3.10/site-packages (from tensorboard<2.13,>=2.12->tensorflow-macos==2.12.0) (0.7.2)\n",
      "Requirement already satisfied: google-auth-oauthlib<1.1,>=0.5 in /Users/mattsalomon/miniconda3/lib/python3.10/site-packages (from tensorboard<2.13,>=2.12->tensorflow-macos==2.12.0) (1.0.0)\n",
      "Requirement already satisfied: rsa<5,>=3.1.4 in /Users/mattsalomon/miniconda3/lib/python3.10/site-packages (from google-auth<3,>=1.6.3->tensorboard<2.13,>=2.12->tensorflow-macos==2.12.0) (4.9)\n",
      "Requirement already satisfied: cachetools<6.0,>=2.0.0 in /Users/mattsalomon/miniconda3/lib/python3.10/site-packages (from google-auth<3,>=1.6.3->tensorboard<2.13,>=2.12->tensorflow-macos==2.12.0) (5.5.0)\n",
      "Requirement already satisfied: pyasn1-modules>=0.2.1 in /Users/mattsalomon/miniconda3/lib/python3.10/site-packages (from google-auth<3,>=1.6.3->tensorboard<2.13,>=2.12->tensorflow-macos==2.12.0) (0.4.0)\n",
      "Requirement already satisfied: requests-oauthlib>=0.7.0 in /Users/mattsalomon/miniconda3/lib/python3.10/site-packages (from google-auth-oauthlib<1.1,>=0.5->tensorboard<2.13,>=2.12->tensorflow-macos==2.12.0) (2.0.0)\n",
      "Requirement already satisfied: certifi>=2017.4.17 in /Users/mattsalomon/miniconda3/lib/python3.10/site-packages (from requests<3,>=2.21.0->tensorboard<2.13,>=2.12->tensorflow-macos==2.12.0) (2022.12.7)\n",
      "Requirement already satisfied: idna<4,>=2.5 in /Users/mattsalomon/miniconda3/lib/python3.10/site-packages (from requests<3,>=2.21.0->tensorboard<2.13,>=2.12->tensorflow-macos==2.12.0) (3.4)\n",
      "Requirement already satisfied: charset-normalizer<3,>=2 in /Users/mattsalomon/miniconda3/lib/python3.10/site-packages (from requests<3,>=2.21.0->tensorboard<2.13,>=2.12->tensorflow-macos==2.12.0) (2.0.4)\n",
      "Requirement already satisfied: urllib3<1.27,>=1.21.1 in /Users/mattsalomon/miniconda3/lib/python3.10/site-packages (from requests<3,>=2.21.0->tensorboard<2.13,>=2.12->tensorflow-macos==2.12.0) (1.26.14)\n",
      "Requirement already satisfied: MarkupSafe>=2.1.1 in /Users/mattsalomon/miniconda3/lib/python3.10/site-packages (from werkzeug>=1.0.1->tensorboard<2.13,>=2.12->tensorflow-macos==2.12.0) (2.1.1)\n",
      "Requirement already satisfied: pyasn1<0.7.0,>=0.4.6 in /Users/mattsalomon/miniconda3/lib/python3.10/site-packages (from pyasn1-modules>=0.2.1->google-auth<3,>=1.6.3->tensorboard<2.13,>=2.12->tensorflow-macos==2.12.0) (0.6.0)\n",
      "Requirement already satisfied: oauthlib>=3.0.0 in /Users/mattsalomon/miniconda3/lib/python3.10/site-packages (from requests-oauthlib>=0.7.0->google-auth-oauthlib<1.1,>=0.5->tensorboard<2.13,>=2.12->tensorflow-macos==2.12.0) (3.2.2)\n"
     ]
    }
   ],
   "source": [
    "!python -m pip install tensorflow-metal==0.8.0 tensorflow-macos==2.12.0 "
   ]
  },
  {
   "cell_type": "code",
   "execution_count": 3,
   "id": "c034fe13",
   "metadata": {
    "id": "c034fe13"
   },
   "outputs": [],
   "source": [
    "from tensorflow.keras.models import Sequential, Model, load_model\n",
    "from tensorflow.keras.layers import Dense, Conv1D, MaxPooling1D, Dropout, Embedding\n",
    "from tensorflow.keras.layers import Flatten, Input, AlphaDropout, GlobalMaxPooling1D\n",
    "from tensorflow.keras.utils import to_categorical\n",
    "from tensorflow.keras.optimizers import Adam\n",
    "import os\n",
    "import numpy as np\n",
    "# os.environ['TF_USE_LEGACY_KERAS'] = '1'\n",
    "\n",
    "class my_cnn(object):\n",
    "\n",
    "    def __init__(self,input_size, optimizer='adam',loss='binary_crossentropy',num_classes=2, embedding_size=128):\n",
    "        self.input_size = input_size\n",
    "        self.max_index = 65535\n",
    "        self.embedding_size = embedding_size\n",
    "        self.optimizer = optimizer\n",
    "        self.loss = loss\n",
    "        self.metrics = [\"accuracy\"]\n",
    "        self.num_classes = num_classes\n",
    "        self.model =  self._build_model()\n",
    "        print(self.model.summary())\n",
    "\n",
    "    def _build_model(self):\n",
    "        #        verbose, epochs, batch_size = 0, 1, 32\n",
    "        model = Sequential()\n",
    "        n_timesteps, n_features, n_outputs = X_train.shape[1], X_train.shape[2], self.num_classes\n",
    "        model.add(Conv1D(filters=64, kernel_size=3, activation='relu', input_shape=(n_timesteps, n_features)))\n",
    "        model.add(Conv1D(filters=64, kernel_size=3, activation='relu'))\n",
    "        model.add(Dropout(0.2))\n",
    "        model.add(MaxPooling1D(pool_size=2))\n",
    "        model.add(Flatten())\n",
    "        model.add(Dense(100, activation='relu'))\n",
    "        model.add(Dense(n_outputs, activation='sigmoid'))\n",
    "        model.compile(loss='categorical_crossentropy', optimizer=self.optimizer, metrics=['accuracy'])\n",
    "\n",
    "        #        model = Model(inputs = inputs, outputs = outputs)\n",
    "\n",
    "        #        model.compile(optimizer = self.optimizer, loss = self.loss, metrics = self.metrics)\n",
    "        return model\n",
    "\n",
    "\n",
    "    def train(self, X_train, y_train, X_val, y_val, epochs, batch_size, checkpoint_every=None):\n",
    "        self.model.fit(X_train, y_train, validation_data=(X_val, y_val), epochs=epochs, batch_size=batch_size)\n",
    "\n",
    "    def get_model(self):\n",
    "        return self.model\n",
    "\n",
    "    def test(self, X_test, y_test, batch_size):\n",
    "        self.model.evaluate(X_test, y_test, batch_size=batch_size)\n",
    "\n",
    "    def predict(self, X_test, batch_size):\n",
    "        predict_x=self.model.predict(X_test,batch_size)\n",
    "        classes_x=np.argmax(predict_x,axis=1)\n",
    "        return classes_x\n",
    "\n",
    "    def save_model(self, path):\n",
    "        self.model.save(path)\n"
   ]
  },
  {
   "cell_type": "code",
   "execution_count": 4,
   "id": "bbad0cba",
   "metadata": {},
   "outputs": [
    {
     "name": "stdout",
     "output_type": "stream",
     "text": [
      "Metal device set to: Apple M1 Pro\n",
      "Epoch 1/5\n"
     ]
    },
    {
     "name": "stderr",
     "output_type": "stream",
     "text": [
      "2024-09-03 08:46:22.865737: W tensorflow/tsl/platform/profile_utils/cpu_utils.cc:128] Failed to get CPU frequency: 0 Hz\n"
     ]
    },
    {
     "name": "stdout",
     "output_type": "stream",
     "text": [
      "782/782 [==============================] - 65s 76ms/step - loss: 4.7200 - accuracy: 0.0775\n",
      "Epoch 2/5\n",
      "782/782 [==============================] - 56s 71ms/step - loss: 4.1737 - accuracy: 0.1221\n",
      "Epoch 3/5\n",
      "782/782 [==============================] - 56s 71ms/step - loss: 3.7016 - accuracy: 0.1806\n",
      "Epoch 4/5\n",
      "782/782 [==============================] - 58s 74ms/step - loss: 3.9176 - accuracy: 0.1498\n",
      "Epoch 5/5\n",
      "782/782 [==============================] - 57s 73ms/step - loss: 4.3038 - accuracy: 0.0947\n",
      "Total time with gpu:  269.052398\n",
      "Epoch 1/5\n",
      "782/782 [==============================] - 388s 494ms/step - loss: 4.4707 - accuracy: 0.0937\n",
      "Epoch 2/5\n",
      "782/782 [==============================] - 384s 491ms/step - loss: 4.4305 - accuracy: 0.0930\n",
      "Epoch 3/5\n",
      "782/782 [==============================] - 386s 493ms/step - loss: 4.2079 - accuracy: 0.0938\n",
      "Epoch 4/5\n",
      "782/782 [==============================] - 390s 498ms/step - loss: 4.0388 - accuracy: 0.1022\n",
      "Epoch 5/5\n",
      "782/782 [==============================] - 395s 505ms/step - loss: 3.7235 - accuracy: 0.1533\n",
      "Total time with cpu:  6635.05695\n"
     ]
    }
   ],
   "source": [
    "from time import process_time\n",
    "\n",
    "def testgpu():\n",
    "    t0 = process_time()\n",
    "    import tensorflow as tf\n",
    "    tf.config.list_physical_devices()\n",
    "    cifar = tf.keras.datasets.cifar100\n",
    "    (x_train, y_train), (x_test, y_test) = cifar.load_data()\n",
    "    model = tf.keras.applications.ResNet50(\n",
    "        include_top=True,\n",
    "        weights=None,\n",
    "        input_shape=(32, 32, 3),\n",
    "        classes=100,)\n",
    "    loss_fn = tf.keras.losses.SparseCategoricalCrossentropy(from_logits=False)\n",
    "    model.compile(optimizer=\"adam\", loss=loss_fn, metrics=[\"accuracy\"])\n",
    "    model.fit(x_train, y_train, epochs=5, batch_size=64)\n",
    "    t1 = process_time()\n",
    "    print(\"Total time with gpu: \", t1-t0)\n",
    "\n",
    "def testcpu():\n",
    "    t0 = process_time()\n",
    "    import tensorflow as tf\n",
    "    with tf.device('/CPU:0'):\n",
    "        tf.config.list_physical_devices()\n",
    "        cifar = tf.keras.datasets.cifar100\n",
    "        (x_train, y_train), (x_test, y_test) = cifar.load_data()\n",
    "        model = tf.keras.applications.ResNet50(\n",
    "            include_top=True,\n",
    "            weights=None,\n",
    "            input_shape=(32, 32, 3),\n",
    "            classes=100,)\n",
    "        loss_fn = tf.keras.losses.SparseCategoricalCrossentropy(from_logits=False)\n",
    "        model.compile(optimizer=\"adam\", loss=loss_fn, metrics=[\"accuracy\"])\n",
    "        model.fit(x_train, y_train, epochs=5, batch_size=64)\n",
    "        t1 = process_time()\n",
    "        print(\"Total time with cpu: \", t1-t0)\n",
    "\n",
    "if __name__ == '__main__':\n",
    "    testgpu()\n",
    "    testcpu()"
   ]
  },
  {
   "cell_type": "code",
   "execution_count": 10,
   "id": "296b6178",
   "metadata": {
    "id": "296b6178"
   },
   "outputs": [
    {
     "data": {
      "text/plain": [
       "['data/heart_disease_health_indicators_BRFSS2015.csv']"
      ]
     },
     "execution_count": 10,
     "metadata": {},
     "output_type": "execute_result"
    }
   ],
   "source": [
    "DATA_DIR = 'data/'\n",
    "from glob import glob\n",
    "all_csv_files = glob(DATA_DIR + \"/*.csv\")\n",
    "all_csv_files"
   ]
  },
  {
   "cell_type": "code",
   "execution_count": 11,
   "id": "13e5cf6d",
   "metadata": {
    "colab": {
     "base_uri": "https://localhost:8080/",
     "height": 756
    },
    "id": "13e5cf6d",
    "outputId": "fb54d596-c860-4a60-d468-8f13642e74ba"
   },
   "outputs": [
    {
     "data": {
      "text/html": [
       "<div>\n",
       "<style scoped>\n",
       "    .dataframe tbody tr th:only-of-type {\n",
       "        vertical-align: middle;\n",
       "    }\n",
       "\n",
       "    .dataframe tbody tr th {\n",
       "        vertical-align: top;\n",
       "    }\n",
       "\n",
       "    .dataframe thead th {\n",
       "        text-align: right;\n",
       "    }\n",
       "</style>\n",
       "<table border=\"1\" class=\"dataframe\">\n",
       "  <thead>\n",
       "    <tr style=\"text-align: right;\">\n",
       "      <th></th>\n",
       "      <th>HeartDiseaseorAttack</th>\n",
       "      <th>HighBP</th>\n",
       "      <th>HighChol</th>\n",
       "      <th>CholCheck</th>\n",
       "      <th>BMI</th>\n",
       "      <th>Smoker</th>\n",
       "      <th>Stroke</th>\n",
       "      <th>Diabetes</th>\n",
       "      <th>PhysActivity</th>\n",
       "      <th>Fruits</th>\n",
       "      <th>...</th>\n",
       "      <th>AnyHealthcare</th>\n",
       "      <th>NoDocbcCost</th>\n",
       "      <th>GenHlth</th>\n",
       "      <th>MentHlth</th>\n",
       "      <th>PhysHlth</th>\n",
       "      <th>DiffWalk</th>\n",
       "      <th>Sex</th>\n",
       "      <th>Age</th>\n",
       "      <th>Education</th>\n",
       "      <th>Income</th>\n",
       "    </tr>\n",
       "  </thead>\n",
       "  <tbody>\n",
       "    <tr>\n",
       "      <th>0</th>\n",
       "      <td>0.0</td>\n",
       "      <td>1.0</td>\n",
       "      <td>1.0</td>\n",
       "      <td>1.0</td>\n",
       "      <td>40.0</td>\n",
       "      <td>1.0</td>\n",
       "      <td>0.0</td>\n",
       "      <td>0.0</td>\n",
       "      <td>0.0</td>\n",
       "      <td>0.0</td>\n",
       "      <td>...</td>\n",
       "      <td>1.0</td>\n",
       "      <td>0.0</td>\n",
       "      <td>5.0</td>\n",
       "      <td>18.0</td>\n",
       "      <td>15.0</td>\n",
       "      <td>1.0</td>\n",
       "      <td>0.0</td>\n",
       "      <td>9.0</td>\n",
       "      <td>4.0</td>\n",
       "      <td>3.0</td>\n",
       "    </tr>\n",
       "    <tr>\n",
       "      <th>1</th>\n",
       "      <td>0.0</td>\n",
       "      <td>0.0</td>\n",
       "      <td>0.0</td>\n",
       "      <td>0.0</td>\n",
       "      <td>25.0</td>\n",
       "      <td>1.0</td>\n",
       "      <td>0.0</td>\n",
       "      <td>0.0</td>\n",
       "      <td>1.0</td>\n",
       "      <td>0.0</td>\n",
       "      <td>...</td>\n",
       "      <td>0.0</td>\n",
       "      <td>1.0</td>\n",
       "      <td>3.0</td>\n",
       "      <td>0.0</td>\n",
       "      <td>0.0</td>\n",
       "      <td>0.0</td>\n",
       "      <td>0.0</td>\n",
       "      <td>7.0</td>\n",
       "      <td>6.0</td>\n",
       "      <td>1.0</td>\n",
       "    </tr>\n",
       "    <tr>\n",
       "      <th>2</th>\n",
       "      <td>0.0</td>\n",
       "      <td>1.0</td>\n",
       "      <td>1.0</td>\n",
       "      <td>1.0</td>\n",
       "      <td>28.0</td>\n",
       "      <td>0.0</td>\n",
       "      <td>0.0</td>\n",
       "      <td>0.0</td>\n",
       "      <td>0.0</td>\n",
       "      <td>1.0</td>\n",
       "      <td>...</td>\n",
       "      <td>1.0</td>\n",
       "      <td>1.0</td>\n",
       "      <td>5.0</td>\n",
       "      <td>30.0</td>\n",
       "      <td>30.0</td>\n",
       "      <td>1.0</td>\n",
       "      <td>0.0</td>\n",
       "      <td>9.0</td>\n",
       "      <td>4.0</td>\n",
       "      <td>8.0</td>\n",
       "    </tr>\n",
       "    <tr>\n",
       "      <th>3</th>\n",
       "      <td>0.0</td>\n",
       "      <td>1.0</td>\n",
       "      <td>0.0</td>\n",
       "      <td>1.0</td>\n",
       "      <td>27.0</td>\n",
       "      <td>0.0</td>\n",
       "      <td>0.0</td>\n",
       "      <td>0.0</td>\n",
       "      <td>1.0</td>\n",
       "      <td>1.0</td>\n",
       "      <td>...</td>\n",
       "      <td>1.0</td>\n",
       "      <td>0.0</td>\n",
       "      <td>2.0</td>\n",
       "      <td>0.0</td>\n",
       "      <td>0.0</td>\n",
       "      <td>0.0</td>\n",
       "      <td>0.0</td>\n",
       "      <td>11.0</td>\n",
       "      <td>3.0</td>\n",
       "      <td>6.0</td>\n",
       "    </tr>\n",
       "    <tr>\n",
       "      <th>4</th>\n",
       "      <td>0.0</td>\n",
       "      <td>1.0</td>\n",
       "      <td>1.0</td>\n",
       "      <td>1.0</td>\n",
       "      <td>24.0</td>\n",
       "      <td>0.0</td>\n",
       "      <td>0.0</td>\n",
       "      <td>0.0</td>\n",
       "      <td>1.0</td>\n",
       "      <td>1.0</td>\n",
       "      <td>...</td>\n",
       "      <td>1.0</td>\n",
       "      <td>0.0</td>\n",
       "      <td>2.0</td>\n",
       "      <td>3.0</td>\n",
       "      <td>0.0</td>\n",
       "      <td>0.0</td>\n",
       "      <td>0.0</td>\n",
       "      <td>11.0</td>\n",
       "      <td>5.0</td>\n",
       "      <td>4.0</td>\n",
       "    </tr>\n",
       "  </tbody>\n",
       "</table>\n",
       "<p>5 rows × 22 columns</p>\n",
       "</div>"
      ],
      "text/plain": [
       "   HeartDiseaseorAttack  HighBP  HighChol  CholCheck   BMI  Smoker  Stroke  \\\n",
       "0                   0.0     1.0       1.0        1.0  40.0     1.0     0.0   \n",
       "1                   0.0     0.0       0.0        0.0  25.0     1.0     0.0   \n",
       "2                   0.0     1.0       1.0        1.0  28.0     0.0     0.0   \n",
       "3                   0.0     1.0       0.0        1.0  27.0     0.0     0.0   \n",
       "4                   0.0     1.0       1.0        1.0  24.0     0.0     0.0   \n",
       "\n",
       "   Diabetes  PhysActivity  Fruits  ...  AnyHealthcare  NoDocbcCost  GenHlth  \\\n",
       "0       0.0           0.0     0.0  ...            1.0          0.0      5.0   \n",
       "1       0.0           1.0     0.0  ...            0.0          1.0      3.0   \n",
       "2       0.0           0.0     1.0  ...            1.0          1.0      5.0   \n",
       "3       0.0           1.0     1.0  ...            1.0          0.0      2.0   \n",
       "4       0.0           1.0     1.0  ...            1.0          0.0      2.0   \n",
       "\n",
       "   MentHlth  PhysHlth  DiffWalk  Sex   Age  Education  Income  \n",
       "0      18.0      15.0       1.0  0.0   9.0        4.0     3.0  \n",
       "1       0.0       0.0       0.0  0.0   7.0        6.0     1.0  \n",
       "2      30.0      30.0       1.0  0.0   9.0        4.0     8.0  \n",
       "3       0.0       0.0       0.0  0.0  11.0        3.0     6.0  \n",
       "4       3.0       0.0       0.0  0.0  11.0        5.0     4.0  \n",
       "\n",
       "[5 rows x 22 columns]"
      ]
     },
     "execution_count": 11,
     "metadata": {},
     "output_type": "execute_result"
    }
   ],
   "source": [
    "import pandas as pd\n",
    "for file in all_csv_files:\n",
    "    data = pd.read_csv(file, on_bad_lines='warn')\n",
    "data.head()"
   ]
  },
  {
   "cell_type": "code",
   "execution_count": 12,
   "id": "wfL1spBM7bWB",
   "metadata": {
    "id": "wfL1spBM7bWB"
   },
   "outputs": [],
   "source": [
    "for col in data.columns:\n",
    "    data[col] = data[col].apply(lambda x: float(x) if str(x).replace('.', '', 1).isdigit() else None)"
   ]
  },
  {
   "cell_type": "code",
   "execution_count": 14,
   "id": "8XjsnwcS8Aup",
   "metadata": {
    "colab": {
     "base_uri": "https://localhost:8080/"
    },
    "id": "8XjsnwcS8Aup",
    "outputId": "719d0573-57dd-4c19-9f86-cef5c86529ad"
   },
   "outputs": [
    {
     "data": {
      "text/plain": [
       "(253680, 22)"
      ]
     },
     "execution_count": 14,
     "metadata": {},
     "output_type": "execute_result"
    }
   ],
   "source": [
    "data=data.dropna()\n",
    "data.shape"
   ]
  },
  {
   "cell_type": "code",
   "execution_count": 15,
   "id": "ee3732a6",
   "metadata": {
    "colab": {
     "base_uri": "https://localhost:8080/"
    },
    "id": "ee3732a6",
    "outputId": "94168047-1946-4d93-97d7-a3e2e03dd06c"
   },
   "outputs": [
    {
     "data": {
      "text/plain": [
       "Index(['HeartDiseaseorAttack', 'HighBP', 'HighChol', 'CholCheck', 'BMI',\n",
       "       'Smoker', 'Stroke', 'Diabetes', 'PhysActivity', 'Fruits', 'Veggies',\n",
       "       'HvyAlcoholConsump', 'AnyHealthcare', 'NoDocbcCost', 'GenHlth',\n",
       "       'MentHlth', 'PhysHlth', 'DiffWalk', 'Sex', 'Age', 'Education',\n",
       "       'Income'],\n",
       "      dtype='object')"
      ]
     },
     "execution_count": 15,
     "metadata": {},
     "output_type": "execute_result"
    }
   ],
   "source": [
    "data.columns"
   ]
  },
  {
   "cell_type": "code",
   "execution_count": 25,
   "id": "d634ec0c",
   "metadata": {
    "id": "d634ec0c"
   },
   "outputs": [],
   "source": [
    "def load_training_data(df):\n",
    "    from sklearn.model_selection import train_test_split\n",
    "    import pandas as pd\n",
    "    c_label = 'HeartDiseaseorAttack'\n",
    "\n",
    "    y = df[c_label].values\n",
    "    X = df.loc[:, df.columns != c_label]\n",
    "    X_train, X_test, y_train, y_test = train_test_split(X, y, test_size=0.33, random_state=13)\n",
    "    return X_train, X_test, y_train, y_test\n",
    "\n",
    "X_train, X_test, y_train, y_test = load_training_data(data)\n"
   ]
  },
  {
   "cell_type": "code",
   "execution_count": 26,
   "id": "9f8802b6",
   "metadata": {
    "id": "9f8802b6"
   },
   "outputs": [],
   "source": [
    "import numpy as np\n",
    "loaded = list()\n",
    "loaded.append(X_train)\n",
    "# print(loaded)\n",
    "X_train = np.dstack(loaded)\n",
    "loaded = list()\n",
    "loaded.append(X_test)\n",
    "X_test = np.dstack(loaded)\n",
    "X_train.shape\n",
    "\n",
    "X_train = np.asarray(X_train).astype('float32')\n",
    "X_test = np.asarray(X_test).astype('float32')"
   ]
  },
  {
   "cell_type": "code",
   "execution_count": null,
   "id": "id_0jbfY63v0",
   "metadata": {
    "id": "id_0jbfY63v0"
   },
   "outputs": [],
   "source": []
  },
  {
   "cell_type": "code",
   "execution_count": 27,
   "id": "d6b30ccb",
   "metadata": {
    "colab": {
     "base_uri": "https://localhost:8080/",
     "height": 616
    },
    "id": "d6b30ccb",
    "outputId": "a1a88658-d5b6-4527-9704-41f6ee25eefc"
   },
   "outputs": [
    {
     "name": "stdout",
     "output_type": "stream",
     "text": [
      "Model: \"sequential_4\"\n",
      "_________________________________________________________________\n",
      " Layer (type)                Output Shape              Param #   \n",
      "=================================================================\n",
      " conv1d_6 (Conv1D)           (None, 19, 64)            256       \n",
      "                                                                 \n",
      " conv1d_7 (Conv1D)           (None, 17, 64)            12352     \n",
      "                                                                 \n",
      " dropout_3 (Dropout)         (None, 17, 64)            0         \n",
      "                                                                 \n",
      " max_pooling1d_3 (MaxPooling  (None, 8, 64)            0         \n",
      " 1D)                                                             \n",
      "                                                                 \n",
      " flatten_3 (Flatten)         (None, 512)               0         \n",
      "                                                                 \n",
      " dense_6 (Dense)             (None, 100)               51300     \n",
      "                                                                 \n",
      " dense_7 (Dense)             (None, 2)                 202       \n",
      "                                                                 \n",
      "=================================================================\n",
      "Total params: 64,110\n",
      "Trainable params: 64,110\n",
      "Non-trainable params: 0\n",
      "_________________________________________________________________\n",
      "None\n",
      "Epoch 1/5\n",
      "567/567 [==============================] - 13s 18ms/step - loss: 0.2637 - accuracy: 0.9053 - val_loss: 0.2496 - val_accuracy: 0.9063\n",
      "Epoch 2/5\n",
      "567/567 [==============================] - 10s 17ms/step - loss: 0.2451 - accuracy: 0.9070 - val_loss: 0.2386 - val_accuracy: 0.9081\n",
      "Epoch 3/5\n",
      "567/567 [==============================] - 9s 17ms/step - loss: 0.2432 - accuracy: 0.9073 - val_loss: 0.2416 - val_accuracy: 0.9080\n",
      "Epoch 4/5\n",
      "567/567 [==============================] - 9s 15ms/step - loss: 0.2417 - accuracy: 0.9074 - val_loss: 0.2379 - val_accuracy: 0.9079\n",
      "Epoch 5/5\n",
      "567/567 [==============================] - 9s 16ms/step - loss: 0.2407 - accuracy: 0.9077 - val_loss: 0.2409 - val_accuracy: 0.9082\n"
     ]
    }
   ],
   "source": [
    "from tensorflow.keras.utils import to_categorical\n",
    "y_train = to_categorical(y_train)\n",
    "y_test = to_categorical(y_test)\n",
    "model = my_cnn(input_size=None)\n",
    "# X_train = np.dstack(X_train)\n",
    "# X_test = np.dstack(X_test)\n",
    "model.train(X_train, y_train, X_test, y_test, epochs=5, batch_size=300)\n",
    "m = model.get_model()\n",
    "\n"
   ]
  },
  {
   "cell_type": "code",
   "execution_count": null,
   "id": "b372d033",
   "metadata": {
    "colab": {
     "base_uri": "https://localhost:8080/"
    },
    "id": "b372d033",
    "outputId": "8b1be14a-2dd4-4196-c3c8-e42667d2aabe"
   },
   "outputs": [],
   "source": [
    "y_pred = model.predict(X_test=X_test,batch_size=300)"
   ]
  },
  {
   "cell_type": "code",
   "execution_count": null,
   "id": "6rJZFPxy9yCi",
   "metadata": {
    "colab": {
     "base_uri": "https://localhost:8080/"
    },
    "id": "6rJZFPxy9yCi",
    "outputId": "5b80d5a9-3e52-4fb5-eaf1-3c415025596e"
   },
   "outputs": [],
   "source": [
    "y_pred"
   ]
  },
  {
   "cell_type": "code",
   "execution_count": null,
   "id": "3iS9-Hxa9a5l",
   "metadata": {
    "colab": {
     "base_uri": "https://localhost:8080/"
    },
    "id": "3iS9-Hxa9a5l",
    "outputId": "78fe5140-7d48-4139-9c1d-4120a357d473"
   },
   "outputs": [],
   "source": [
    "## Evaluate Results\n",
    "from sklearn.metrics import accuracy_score, f1_score, precision_score, recall_score\n",
    "print('Accuracy: ', np.round(accuracy_score(y_test[:,1], y_pred),3))\n",
    "print('F1 Score: ', np.round(f1_score(y_test[:,1], y_pred),3))\n",
    "print('Precision: ', np.round(precision_score(y_test[:,1], y_pred),3))\n",
    "print('Recall: ', np.round(recall_score(y_test[:,1], y_pred),3))\n",
    "print('***************')"
   ]
  },
  {
   "cell_type": "code",
   "execution_count": null,
   "id": "EJfZZ9Z69vRZ",
   "metadata": {
    "colab": {
     "base_uri": "https://localhost:8080/"
    },
    "id": "EJfZZ9Z69vRZ",
    "outputId": "1f351180-5e6b-4e94-d11c-1d3a8b4756b0"
   },
   "outputs": [],
   "source": []
  },
  {
   "cell_type": "code",
   "execution_count": null,
   "id": "B-y2aVUx_X-o",
   "metadata": {
    "id": "B-y2aVUx_X-o"
   },
   "outputs": [],
   "source": []
  }
 ],
 "metadata": {
  "colab": {
   "provenance": []
  },
  "kernelspec": {
   "display_name": "TF_python310",
   "language": "python",
   "name": "tf_python310"
  },
  "language_info": {
   "codemirror_mode": {
    "name": "ipython",
    "version": 3
   },
   "file_extension": ".py",
   "mimetype": "text/x-python",
   "name": "python",
   "nbconvert_exporter": "python",
   "pygments_lexer": "ipython3",
   "version": "3.10.9"
  },
  "varInspector": {
   "cols": {
    "lenName": 16,
    "lenType": 16,
    "lenVar": 40
   },
   "kernels_config": {
    "python": {
     "delete_cmd_postfix": "",
     "delete_cmd_prefix": "del ",
     "library": "var_list.py",
     "varRefreshCmd": "print(var_dic_list())"
    },
    "r": {
     "delete_cmd_postfix": ") ",
     "delete_cmd_prefix": "rm(",
     "library": "var_list.r",
     "varRefreshCmd": "cat(var_dic_list()) "
    }
   },
   "types_to_exclude": [
    "module",
    "function",
    "builtin_function_or_method",
    "instance",
    "_Feature"
   ],
   "window_display": false
  }
 },
 "nbformat": 4,
 "nbformat_minor": 5
}
